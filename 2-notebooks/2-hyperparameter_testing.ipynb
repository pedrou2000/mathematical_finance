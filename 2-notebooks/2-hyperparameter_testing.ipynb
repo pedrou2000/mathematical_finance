{
 "cells": [
  {
   "attachments": {},
   "cell_type": "markdown",
   "metadata": {},
   "source": [
    "# HyperParameter Testing"
   ]
  },
  {
   "attachments": {},
   "cell_type": "markdown",
   "metadata": {},
   "source": [
    "### Imports"
   ]
  },
  {
   "cell_type": "code",
   "execution_count": 1,
   "metadata": {},
   "outputs": [],
   "source": [
    "import pandas as pd\n",
    "import numpy as np\n",
    "import matplotlib.pyplot as plt\n",
    "import seaborn\n",
    "seaborn.set()\n",
    "import wrds\n",
    "import sys\n",
    "sys.path.append('..')\n",
    "import imageio.v2 as imageio\n",
    "import os\n",
    "\n",
    "# Import Main Python Modules\n",
    "from src.dataframe_construction import *\n",
    "from src.a_estimation import *\n",
    "from src.optimal_strategies import *\n",
    "from src.backtest import *\n"
   ]
  },
  {
   "attachments": {},
   "cell_type": "markdown",
   "metadata": {},
   "source": [
    "### Backtesting"
   ]
  },
  {
   "attachments": {},
   "cell_type": "markdown",
   "metadata": {},
   "source": [
    "#### Setting up the data"
   ]
  },
  {
   "cell_type": "code",
   "execution_count": 2,
   "metadata": {},
   "outputs": [],
   "source": [
    "daily = False\n",
    "datapath='../data/'\n",
    "backtest_start_year = 2000\n",
    "\n",
    "if daily:\n",
    "    d = 3000\n",
    "    start_date_a_estimation='2013-01-01'\n",
    "    end_date_a_estimation=str(backtest_start_year)+'-01-01'\n",
    "    start_date_backtest=end_date_a_estimation\n",
    "    end_date_backtest='2025-01-01'\n",
    "    start_date='2013-01-01'\n",
    "    filename='CRSP_2013_2018_daily_cleaned.h5'\n",
    "    caps_table='dlyprevcap'\n",
    "    returns_table='dlyret'\n",
    "else:\n",
    "    d = 2000\n",
    "    start_date_a_estimation='1965-01-01'\n",
    "    end_date_a_estimation=str(backtest_start_year)+'-01-01'\n",
    "    start_date_backtest=end_date_a_estimation\n",
    "    end_date_backtest='2025-01-01'\n",
    "    filename='CRSP_monthly_cleaned.h5'\n",
    "    caps_table='mthprevcap'\n",
    "    returns_table='mthret'\n",
    "\n",
    "df_a_estimation = Data(d=d, start_date=start_date_a_estimation, end_date=end_date_a_estimation, datapath=datapath, \n",
    "                       filename=filename, caps_table=caps_table, returns_table=returns_table)\n",
    "df_backtest = Data(d=d, start_date=start_date_backtest, end_date=end_date_backtest, datapath=datapath, filename=filename, \n",
    "                   caps_table=caps_table, returns_table=returns_table)"
   ]
  },
  {
   "attachments": {},
   "cell_type": "markdown",
   "metadata": {},
   "source": [
    "#### HyperParameter Testing"
   ]
  },
  {
   "cell_type": "code",
   "execution_count": 3,
   "metadata": {},
   "outputs": [],
   "source": [
    "def plot_given_N(Ns, vector, N_up_to, folder, name, title):\n",
    "    # Filter Ns and vector based on the m parameter\n",
    "    Ns_filtered = [n for n in Ns if n <= N_up_to]\n",
    "    vector_filtered = vector[:len(Ns_filtered)]\n",
    "\n",
    "    plt.figure(figsize=(10, 5))\n",
    "    plt.plot(Ns_filtered, vector_filtered, marker='o', linestyle='-', linewidth=2)\n",
    "    plt.xlabel('N')\n",
    "    plt.ylabel(title)\n",
    "    plt.title(title +' for Different Ns')\n",
    "\n",
    "    plt.savefig(f'{folder}{name}.png', dpi=300)\n",
    "\n",
    "def create_gif(folder_path, gif_name):\n",
    "    images = []\n",
    "    for file_name in sorted(os.listdir(folder_path)):\n",
    "        if file_name.endswith('.png'):\n",
    "            file_path = os.path.join(folder_path, file_name)\n",
    "            images.append(imageio.imread(file_path))\n",
    "\n",
    "    duration = 10  # Set the duration in seconds\n",
    "    gif_path = os.path.join(folder_path, f\"{gif_name}.gif\")\n",
    "    imageio.mimsave(gif_path, images, format='GIF', duration=duration)"
   ]
  },
  {
   "attachments": {},
   "cell_type": "markdown",
   "metadata": {},
   "source": [
    "#### Different Leverage Scalers"
   ]
  },
  {
   "cell_type": "code",
   "execution_count": 4,
   "metadata": {},
   "outputs": [
    {
     "name": "stderr",
     "output_type": "stream",
     "text": [
      "/home/pedro/Downloads/mathematical_finance/2-notebooks/../src/a_estimation.py:25: RuntimeWarning: overflow encountered in exp\n",
      "  return a * np.exp(-b * x) + c\n"
     ]
    }
   ],
   "source": [
    "method = 'direct_log'\n",
    "smooth_method = 'exponential_decay'\n",
    "smooth_a = False\n",
    "initial_folder_path = '../3-results/4-different_leverage_scalers/1-start_year_'+str(backtest_start_year)+'/'\n",
    "plot_date = '2013-03-28'\n",
    "setting = 'mixed'\n",
    "smooth_parameter = 2\n",
    "risk_free_rate = 0\n",
    "\n",
    "leverage_scalers = [0.1, 0.01, 0.001, 0.0001]\n",
    "Ns = list(range(1, 10)) + list(range(10, 30, 5)) + list(range(30, 100, 10)) + list(range(100,300, 50)) + list(range(300,2000, 100))\n",
    "meta_plots_up_to = [20, 100, 200, 500, 1000, 2000]\n",
    "\n",
    "for leverage_scaler in leverage_scalers:\n",
    "    folder_path = initial_folder_path + 'leverage_scaler=' + str(leverage_scaler) + '/'\n",
    "    os.makedirs(folder_path, exist_ok=True)\n",
    "\n",
    "    # Meta Results\n",
    "    average_returns_percentage = []\n",
    "    average_returns = []\n",
    "    sd_returns = []\n",
    "    end_period_cumulative_wealths = []\n",
    "    sharpe_ratios = []\n",
    "\n",
    "    # Meta Plots \n",
    "    average_returns_folder = folder_path + '1-average_returns/'\n",
    "    end_period_cumulative_wealths_folder = folder_path + '2-end_period_cumulative_wealths/'\n",
    "    sharpe_ratios_folder = folder_path + '3-sharpe_ratios/'\n",
    "    os.makedirs(average_returns_folder, exist_ok=True)\n",
    "    os.makedirs(end_period_cumulative_wealths_folder, exist_ok=True)\n",
    "    os.makedirs(sharpe_ratios_folder, exist_ok=True)\n",
    "    \n",
    "    # Folder Paths\n",
    "    strategies_folder = folder_path + '4-strategies/'\n",
    "    returns_folder = folder_path + '5-returns/'\n",
    "    cumulative_returns_folder = folder_path + '6-cumulative_returns/'\n",
    "    os.makedirs(strategies_folder, exist_ok=True)\n",
    "    os.makedirs(returns_folder, exist_ok=True)\n",
    "    os.makedirs(cumulative_returns_folder, exist_ok=True)\n",
    "\n",
    "\n",
    "    a = estimate_a(df_a_estimation.weights_by_rank, smooth_method=smooth_method, smooth_parameter=smooth_parameter,  smooth_a=smooth_a)\n",
    "    plot_a(a[:-1], data_path=folder_path + 'a_plot')\n",
    "\n",
    "    for N in Ns:\n",
    "        strategy = compute_weights_optimal_open(setting=setting, N=N, a=a, weights_by_rank=df_backtest.weights_by_rank,\n",
    "                                                leverage_scaler=leverage_scaler)\n",
    "        backtest = Backtest(strategy=strategy, weights_permno_by_rank=df_backtest.weights_permno_by_rank, \n",
    "                            returns_by_permno=df_backtest.returns_by_permno, risk_free_rate=risk_free_rate)\n",
    "        backtest.run()\n",
    "        \n",
    "        # Meta Results\n",
    "        average_returns_percentage.append(backtest.average_return_percentage)\n",
    "        average_returns.append(backtest.average_return)\n",
    "        sd_returns.append(backtest.sd_return)\n",
    "        end_period_cumulative_wealths.append(backtest.end_period_cumulative_wealth)\n",
    "        sharpe_ratios.append(backtest.sharpe_ratio)\n",
    "\n",
    "        # Plotting for each N\n",
    "        plot_strategy(strategy=strategy, date=plot_date, data_path=strategies_folder+'strategy_plot_N='+str(N))\n",
    "        backtest.plot_rets(data_path=returns_folder+'returns_N='+str(N))\n",
    "        backtest.plot_cumulative_rets(data_path=cumulative_returns_folder+'cumulative_returns_N='+str(N))\n",
    "\n",
    "    # Meta Plots\n",
    "    create_gif(strategies_folder, 'strategies_evolution')\n",
    "    create_gif(returns_folder, 'returns')\n",
    "    create_gif(cumulative_returns_folder, 'cumulative_returns')\n",
    "\n",
    "    for N_up_to in meta_plots_up_to:\n",
    "        plot_given_N(Ns=Ns, vector=average_returns_percentage, N_up_to=N_up_to, folder=average_returns_folder, \n",
    "                     name='average_returns_up_to_'+str(N_up_to), title='Average Returns Monthly (%)')\n",
    "        plot_given_N(Ns=Ns, vector=end_period_cumulative_wealths, N_up_to=N_up_to, folder=end_period_cumulative_wealths_folder, \n",
    "                     name='end_of_period_wealth_up_to_'+str(N_up_to), title='End of Period Wealths')\n",
    "        plot_given_N(Ns=Ns, vector=sharpe_ratios, N_up_to=N_up_to, folder=sharpe_ratios_folder, \n",
    "                     name='sharpe_ratios_up_to_'+str(N_up_to), title='Sharpe Ratios')\n"
   ]
  },
  {
   "attachments": {},
   "cell_type": "markdown",
   "metadata": {},
   "source": [
    "#### Trying Different Smooth Methods"
   ]
  },
  {
   "cell_type": "code",
   "execution_count": null,
   "metadata": {},
   "outputs": [],
   "source": [
    "method = 'direct_log'\n",
    "smooth_methods = ['exponential_decay', 'polynomial']\n",
    "smooth_a = False\n",
    "initial_folder_path = '../3-results/3-sharpe_ratios/'\n",
    "plot_date = '2013-03-28'\n",
    "\n",
    "settings = ['pure', 'mixed']\n",
    "smooth_parameter = 2\n",
    "Ns = list(range(1, 10)) + list(range(10, 30, 5)) + list(range(30, 100, 10)) + list(range(100,300, 50)) + list(range(300,2000, 100))\n",
    "meta_plots_up_to = [20, 100, 200, 500, 1000, 2000]\n",
    "strategy_plots_N = [10, 100, 1000]\n",
    "risk_free_rate = 0\n",
    "\n",
    "for setting in settings:\n",
    "    folder_path = initial_folder_path + setting + '/'\n",
    "\n",
    "    for smooth_method in smooth_methods:\n",
    "        average_returns = []\n",
    "        sd_returns = []\n",
    "        final_cumulative_returns = []\n",
    "        \n",
    "        new_folder = folder_path + smooth_method + '/'\n",
    "        os.makedirs(new_folder, exist_ok=True)\n",
    "\n",
    "        a = estimate_a(df_a_estimation.weights_by_rank, smooth_method=smooth_method, smooth_parameter=smooth_parameter,  smooth_a=smooth_a)\n",
    "        plot_a(a[:-1], data_path=new_folder + 'a_plot')\n",
    "\n",
    "        for N in Ns:\n",
    "            strategy = compute_weights_optimal_open(setting=setting, N=N, a=a, weights_by_rank=df_backtest.weights_by_rank)\n",
    "            if N in strategy_plots_N:\n",
    "                plot_strategy(strategy=strategy, date=plot_date, data_path=new_folder+'strategy_plot_N='+str(N))\n",
    "            backtest = Backtest(strategy=strategy, weights_permno_by_rank=df_backtest.weights_permno_by_rank, returns_by_permno=df_backtest.returns_by_permno)\n",
    "            backtest.run()\n",
    "\n",
    "            average_return = round(np.mean(backtest.rets), 4)\n",
    "            sd_return = round(np.std(backtest.rets), 4)\n",
    "            backtest.plot_rets()\n",
    "            final_cumulative_return = round(backtest.cumulative_rets[-1], 4)\n",
    "\n",
    "            average_returns.append(average_return)\n",
    "            sd_returns.append(sd_return)\n",
    "            final_cumulative_returns.append(final_cumulative_return)\n",
    "            # print('N =', N, '. Average return:', average_return, '; Final Cumulative Return:', final_cumulative_return)\n",
    "\n",
    "        # Plots\n",
    "        returns_folder = new_folder + 'average_returns/'\n",
    "        os.makedirs(returns_folder, exist_ok=True)\n",
    "        sharpe_ratios_folder = new_folder + 'sharpe_ratios/'\n",
    "        os.makedirs(sharpe_ratios_folder, exist_ok=True)\n",
    "        for first_print in meta_plots_up_to:\n",
    "            plot_given_N(Ns, average_returns, first_print, returns_folder, 'average_returns_up_to_'+str(first_print))\n",
    "            plot_sharpe_ratio(Ns, average_returns, sd_returns, risk_free_rate, first_print, sharpe_ratios_folder, 'sharpe_ratios_up_to_'+str(first_print))\n"
   ]
  }
 ],
 "metadata": {
  "kernelspec": {
   "display_name": "math_fin",
   "language": "python",
   "name": "python3"
  },
  "language_info": {
   "codemirror_mode": {
    "name": "ipython",
    "version": 3
   },
   "file_extension": ".py",
   "mimetype": "text/x-python",
   "name": "python",
   "nbconvert_exporter": "python",
   "pygments_lexer": "ipython3",
   "version": "3.11.0"
  },
  "orig_nbformat": 4,
  "vscode": {
   "interpreter": {
    "hash": "448f11df3feb486c63a1366f484ba63e8bee9498ef9cffe5c1e04b59447a9418"
   }
  }
 },
 "nbformat": 4,
 "nbformat_minor": 2
}
