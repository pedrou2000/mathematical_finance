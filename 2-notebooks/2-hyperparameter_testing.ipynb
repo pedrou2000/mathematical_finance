{
 "cells": [
  {
   "attachments": {},
   "cell_type": "markdown",
   "metadata": {},
   "source": [
    "# HyperParameter Testing"
   ]
  },
  {
   "attachments": {},
   "cell_type": "markdown",
   "metadata": {},
   "source": [
    "### Imports"
   ]
  },
  {
   "cell_type": "code",
   "execution_count": 1,
   "metadata": {},
   "outputs": [],
   "source": [
    "import pandas as pd\n",
    "import numpy as np\n",
    "import matplotlib.pyplot as plt\n",
    "import seaborn\n",
    "seaborn.set()\n",
    "import wrds\n",
    "import sys\n",
    "sys.path.append('..')\n",
    "import os\n",
    "\n",
    "# Import Main Python Modules\n",
    "from src.dataframe_construction import *\n",
    "from src.a_estimation import *\n",
    "from src.optimal_strategies import *\n",
    "from src.backtest import *\n"
   ]
  },
  {
   "attachments": {},
   "cell_type": "markdown",
   "metadata": {},
   "source": [
    "### Backtesting"
   ]
  },
  {
   "attachments": {},
   "cell_type": "markdown",
   "metadata": {},
   "source": [
    "#### Setting up the data"
   ]
  },
  {
   "cell_type": "code",
   "execution_count": 2,
   "metadata": {},
   "outputs": [],
   "source": [
    "daily = False\n",
    "datapath='../data/'\n",
    "\n",
    "if daily:\n",
    "    d = 3000\n",
    "    start_date='2013-01-01'\n",
    "    filename='CRSP_2013_2018_daily_cleaned.h5'\n",
    "    caps_table='dlyprevcap'\n",
    "    returns_table='dlyret'\n",
    "else:\n",
    "    d = 2000\n",
    "    start_date='1965-01-01'\n",
    "    filename='CRSP_monthly_cleaned.h5'\n",
    "    caps_table='mthprevcap'\n",
    "    returns_table='mthret'\n",
    "\n",
    "df = Data(d=d, start_date=start_date, datapath=datapath, filename=filename, caps_table=caps_table, returns_table=returns_table)"
   ]
  },
  {
   "attachments": {},
   "cell_type": "markdown",
   "metadata": {},
   "source": [
    "#### HyperParameter Testing"
   ]
  },
  {
   "cell_type": "code",
   "execution_count": 3,
   "metadata": {},
   "outputs": [],
   "source": [
    "def plot_given_N(Ns, vector, m, folder, name):\n",
    "    # Filter Ns and vector based on the m parameter\n",
    "    Ns_filtered = [n for n in Ns if n <= m]\n",
    "    vector_filtered = vector[:len(Ns_filtered)]\n",
    "\n",
    "    plt.figure(figsize=(10, 5))\n",
    "    plt.plot(Ns_filtered, vector_filtered, marker='o', linestyle='-', linewidth=2)\n",
    "    plt.xlabel('N')\n",
    "    plt.ylabel('Average Return')\n",
    "    plt.title('Average Return for Different Ns')\n",
    "\n",
    "    plt.savefig(f'{folder}{name}.png', dpi=300)"
   ]
  },
  {
   "cell_type": "code",
   "execution_count": 6,
   "metadata": {},
   "outputs": [],
   "source": [
    "method = 'direct_log'\n",
    "smooth_method = 'polynomial'\n",
    "smooth_a = False\n",
    "initial_folder_path = '../3-results/1-varying_smoothness/'\n",
    "plot_date = '2013-03-28'\n",
    "\n",
    "settings = ['mixed']\n",
    "smooth_parameters_pure = list(range(1, 16))\n",
    "smooth_parameters_mixed = [1, 2, 3, 5, 10, 15, 20, 30, 50]\n",
    "Ns = list(range(1, 10)) + list(range(10, 30, 5)) + list(range(30, 100, 10)) + list(range(100,300, 50)) + list(range(300,2000, 100))\n",
    "interests_plots_up_to = [20, 100, 200, 500, 1000, 2000]\n",
    "strategy_plots_N = [10, 100, 1000]\n",
    "\n",
    "for setting in settings:\n",
    "    folder_path = initial_folder_path + setting + '/'\n",
    "    if setting == 'pure':\n",
    "        smooth_parameters = smooth_parameters_pure\n",
    "    else:\n",
    "        smooth_parameters = smooth_parameters_mixed\n",
    "\n",
    "    for smooth_parameter in smooth_parameters:\n",
    "        average_returns = []\n",
    "        final_cumulative_returns = []\n",
    "        \n",
    "        new_folder = folder_path + 'smoothness='+str(smooth_parameter)+'/'\n",
    "        os.makedirs(new_folder, exist_ok=True)\n",
    "\n",
    "        a = estimate_a(df.weights_by_rank, smooth_method=smooth_method, smooth_parameter=smooth_parameter,  smooth_a=smooth_a)\n",
    "        plot_a(a, data_path=new_folder + 'a_plot')\n",
    "\n",
    "        for N in Ns:\n",
    "            strategy = compute_weights_optimal_open(setting=setting, N=N, a=a, weights_by_rank=df.weights_by_rank)\n",
    "            if N in strategy_plots_N:\n",
    "                plot_strategy(strategy=strategy, date=plot_date, data_path=new_folder+'strategy_plot_N='+str(N))\n",
    "            backtest = Backtest(strategy=strategy, weights_permno_by_rank=df.weights_permno_by_rank, returns_by_permno=df.returns_by_permno)\n",
    "            backtest.run()\n",
    "\n",
    "            average_return = round(np.mean(backtest.rets), 4)\n",
    "            final_cumulative_return = round(backtest.cumulative_rets[-1], 4)\n",
    "\n",
    "            average_returns.append(average_return)\n",
    "            final_cumulative_returns.append(final_cumulative_return)\n",
    "            # print('N =', N, '. Average return:', average_return, '; Final Cumulative Return:', final_cumulative_return)\n",
    "\n",
    "        for first_print in interests_plots_up_to:\n",
    "            plot_given_N(Ns, average_returns, first_print, new_folder, 'average_returns_'+str(first_print))"
   ]
  }
 ],
 "metadata": {
  "kernelspec": {
   "display_name": "math_fin",
   "language": "python",
   "name": "python3"
  },
  "language_info": {
   "codemirror_mode": {
    "name": "ipython",
    "version": 3
   },
   "file_extension": ".py",
   "mimetype": "text/x-python",
   "name": "python",
   "nbconvert_exporter": "python",
   "pygments_lexer": "ipython3",
   "version": "3.11.0"
  },
  "orig_nbformat": 4,
  "vscode": {
   "interpreter": {
    "hash": "448f11df3feb486c63a1366f484ba63e8bee9498ef9cffe5c1e04b59447a9418"
   }
  }
 },
 "nbformat": 4,
 "nbformat_minor": 2
}
